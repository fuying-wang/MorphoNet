{
 "cells": [
  {
   "cell_type": "code",
   "execution_count": 3,
   "metadata": {},
   "outputs": [],
   "source": [
    "import os\n",
    "import numpy as np\n",
    "import pandas as pd"
   ]
  },
  {
   "cell_type": "code",
   "execution_count": 4,
   "metadata": {},
   "outputs": [],
   "source": [
    "dataset_dir = \"/home/fywang/Documents/SPANTHER/src/dataset_csv\""
   ]
  },
  {
   "cell_type": "code",
   "execution_count": 7,
   "metadata": {},
   "outputs": [
    {
     "name": "stdout",
     "output_type": "stream",
     "text": [
      "ebrains\n",
      "(2313, 17)\n",
      "2141\n",
      "NSCLC\n",
      "(1043, 12)\n",
      "946\n",
      "panda_wholesight\n",
      "(9549, 6)\n"
     ]
    }
   ],
   "source": [
    "for dataset_name in [\"ebrains\", 'NSCLC', 'panda_wholesight']:\n",
    "    csv_path = os.path.join(dataset_dir, dataset_name, \"classification.csv\")\n",
    "    df = pd.read_csv(csv_path)\n",
    "    print(dataset_name)\n",
    "    print(df.shape)\n",
    "    if \"case_id\" in df.columns:\n",
    "        print(df[\"case_id\"].nunique())\n",
    "\n",
    "\n",
    "# 'BRCA', 'TCGA_COADREAD', 'TCGA_BLCA', 'TCGA_UCEC', 'TCGA_LUAD', 'TCGA_KIRC'"
   ]
  },
  {
   "cell_type": "code",
   "execution_count": 10,
   "metadata": {},
   "outputs": [
    {
     "name": "stdout",
     "output_type": "stream",
     "text": [
      "TCGA_BRCA\n",
      "(1111, 62)\n",
      "1041\n",
      "TCGA_COADREAD\n",
      "(573, 62)\n",
      "564\n",
      "TCGA_BLCA\n",
      "(437, 62)\n",
      "373\n",
      "TCGA_UCEC\n",
      "(565, 62)\n",
      "504\n",
      "TCGA_LUAD\n",
      "(519, 62)\n",
      "456\n",
      "TCGA_KIRC\n",
      "(517, 62)\n",
      "511\n"
     ]
    }
   ],
   "source": [
    "for dataset_name in ['TCGA_BRCA', 'TCGA_COADREAD', 'TCGA_BLCA', 'TCGA_UCEC', 'TCGA_LUAD', 'TCGA_KIRC']:\n",
    "    csv_path = os.path.join(dataset_dir, dataset_name, \"survival.csv\")\n",
    "    df = pd.read_csv(csv_path)\n",
    "    print(dataset_name)\n",
    "    print(df.shape)\n",
    "    if \"case_id\" in df.columns:\n",
    "        print(df[\"case_id\"].nunique())"
   ]
  },
  {
   "cell_type": "code",
   "execution_count": null,
   "metadata": {},
   "outputs": [],
   "source": []
  }
 ],
 "metadata": {
  "kernelspec": {
   "display_name": "panther",
   "language": "python",
   "name": "python3"
  },
  "language_info": {
   "codemirror_mode": {
    "name": "ipython",
    "version": 3
   },
   "file_extension": ".py",
   "mimetype": "text/x-python",
   "name": "python",
   "nbconvert_exporter": "python",
   "pygments_lexer": "ipython3",
   "version": "3.10.15"
  }
 },
 "nbformat": 4,
 "nbformat_minor": 2
}
