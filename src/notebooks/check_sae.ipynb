{
 "cells": [
  {
   "cell_type": "code",
   "execution_count": 1,
   "metadata": {},
   "outputs": [
    {
     "name": "stderr",
     "output_type": "stream",
     "text": [
      "/home/fywang/miniconda3/envs/spanther/lib/python3.10/site-packages/tqdm/auto.py:21: TqdmWarning: IProgress not found. Please update jupyter and ipywidgets. See https://ipywidgets.readthedocs.io/en/stable/user_install.html\n",
      "  from .autonotebook import tqdm as notebook_tqdm\n"
     ]
    }
   ],
   "source": [
    "%load_ext autoreload\n",
    "%autoreload 2\n",
    "\n",
    "import sys\n",
    "sys.path.append('../')\n",
    "\n",
    "import cv2\n",
    "import h5py\n",
    "import pandas as pd\n",
    "import scanpy as sc \n",
    "from os.path import join as j_\n",
    "import os\n",
    "import ipdb\n",
    "import openslide\n",
    "import numpy as np\n",
    "from tqdm import tqdm\n",
    "import torch\n",
    "import networkx as nx\n",
    "import seaborn as sns\n",
    "import matplotlib.pyplot as plt\n",
    "from torch.utils.data import DataLoader, sampler\n",
    "from torch_geometric.utils import to_networkx\n",
    "import networkx as nx\n",
    "\n",
    "from wsi_datasets import WSIClassificationDataset\n",
    "from mil_models import SAEConfig, SAE"
   ]
  },
  {
   "cell_type": "code",
   "execution_count": 2,
   "metadata": {},
   "outputs": [
    {
     "name": "stdout",
     "output_type": "stream",
     "text": [
      "Using the following split names: ['train', 'val', 'test']\n"
     ]
    }
   ],
   "source": [
    "split_dir = \"/home/fywang/Documents/SPANTHER/src/splits/classification/BRCA\"\n",
    "split_names = \"train,val,test\"\n",
    "\n",
    "fold_idx = None\n",
    "splits_csvs = {}\n",
    "split_names = split_names.split(',')\n",
    "print(f\"Using the following split names: {split_names}\")\n",
    "for split in split_names:\n",
    "    if fold_idx is not None:\n",
    "        split_path = j_(split_dir, f'{split}_{fold_idx}.csv')\n",
    "    else:\n",
    "        split_path = j_(split_dir, f'{split}.csv')\n",
    "    \n",
    "    if os.path.isfile(split_path):\n",
    "        df = pd.read_csv(split_path)#.sample(frac=1, random_state=0).head(25).reset_index(drop=True)\n",
    "        assert 'Unnamed: 0' not in df.columns\n",
    "        splits_csvs[split] = df\n"
   ]
  },
  {
   "cell_type": "code",
   "execution_count": 3,
   "metadata": {},
   "outputs": [],
   "source": [
    "train_kwargs = dict(data_source=['/data1/r20user2/wsi_data/TCGA_BRCA/extracted_mag20x_patch256/conch_pt_patch_features/h5_files'],\n",
    "                    label_map={'IDC': 0, 'ILC': 1},\n",
    "                    target_col='oncotree_code',\n",
    "                    bag_size=-1,\n",
    "                    shuffle=True,\n",
    "                    load_cluster_feats=False\n",
    "                    )\n",
    "\n",
    "# use the whole bag at test time\n",
    "val_kwargs = dict(data_source=['/data1/r20user2/wsi_data/TCGA_BRCA/extracted_mag20x_patch256/conch_pt_patch_features/h5_files'],\n",
    "                  label_map={'IDC': 0, 'ILC': 1},\n",
    "                  target_col='oncotree_code',\n",
    "                  bag_size=-1,\n",
    "                  load_cluster_feats=False\n",
    "                  )\n"
   ]
  },
  {
   "cell_type": "code",
   "execution_count": 4,
   "metadata": {},
   "outputs": [],
   "source": [
    "def build_sampler(dataset, sampler_type=None):\n",
    "    data_sampler = None\n",
    "    if sampler_type is None:\n",
    "        return data_sampler\n",
    "    \n",
    "    assert sampler_type in ['weighted', 'random', 'sequential']\n",
    "    if sampler_type == 'weighted':\n",
    "        labels = dataset.get_labels(np.arange(len(dataset)), apply_transform=True)\n",
    "        uniques, counts = np.unique(labels, return_counts=True)\n",
    "        weights = {uniques[i]: 1. / counts[i] for i in range(len(uniques))}\n",
    "        samples_weight = np.array([weights[t] for t in labels])\n",
    "        samples_weight = torch.from_numpy(samples_weight)\n",
    "        data_sampler = sampler.WeightedRandomSampler(samples_weight.type('torch.DoubleTensor'), len(samples_weight))\n",
    "    elif sampler_type == 'random':\n",
    "        data_sampler = sampler.RandomSampler(dataset)\n",
    "    elif sampler_type == 'sequential':\n",
    "        data_sampler = sampler.SequentialSampler(dataset)\n",
    "\n",
    "    return data_sampler"
   ]
  },
  {
   "cell_type": "code",
   "execution_count": 5,
   "metadata": {},
   "outputs": [
    {
     "name": "stdout",
     "output_type": "stream",
     "text": [
      "\n",
      "SPLIT:  train\n",
      "oncotree_code\n",
      "IDC    561\n",
      "ILC    116\n",
      "split: train, n: 677\n",
      "\n",
      "SPLIT:  val\n",
      "oncotree_code\n",
      "IDC    63\n",
      "ILC    13\n",
      "split: val, n: 76\n",
      "\n",
      "SPLIT:  test\n",
      "oncotree_code\n",
      "IDC    70\n",
      "ILC    14\n",
      "split: test, n: 84\n"
     ]
    }
   ],
   "source": [
    "dataset_splits = {}\n",
    "sampler_types={'train': 'random',\n",
    "               'val': 'sequential',\n",
    "               'test': 'sequential'}\n",
    "batch_size=1\n",
    "num_workers=2\n",
    "\n",
    "for k in splits_csvs.keys(): # ['train', 'val', 'test']\n",
    "    print(\"\\nSPLIT: \", k)\n",
    "    df = splits_csvs[k]\n",
    "    dataset_kwargs = train_kwargs.copy() if (k == 'train') else val_kwargs.copy()\n",
    "    if k == 'test_nlst':\n",
    "        dataset_kwargs['sample_col'] = 'case_id'\n",
    "    dataset = WSIClassificationDataset(df, **dataset_kwargs)\n",
    "    data_sampler = build_sampler(dataset, sampler_type=sampler_types.get(k, 'sequential'))\n",
    "\n",
    "    dataloader = DataLoader(dataset, batch_size=batch_size, sampler=data_sampler, \n",
    "                            num_workers=num_workers, shuffle=False)\n",
    "    dataset_splits[k] = dataloader\n",
    "    print(f'split: {k}, n: {len(dataset)}')"
   ]
  },
  {
   "cell_type": "code",
   "execution_count": 6,
   "metadata": {},
   "outputs": [
    {
     "name": "stderr",
     "output_type": "stream",
     "text": [
      "/tmp/ipykernel_1933199/130301041.py:7: FutureWarning: You are using `torch.load` with `weights_only=False` (the current default value), which uses the default pickle module implicitly. It is possible to construct malicious pickle data which will execute arbitrary code during unpickling (See https://github.com/pytorch/pytorch/blob/main/SECURITY.md#untrusted-models for more details). In a future release, the default value for `weights_only` will be flipped to `True`. This limits the functions that could be executed during unpickling. Arbitrary objects will no longer be allowed to be loaded via this mode unless they are explicitly allowlisted by the user via `torch.serialization.add_safe_globals`. We recommend you start setting `weights_only=True` for any use case where you don't have full control of the loaded file. Please open an issue on GitHub for any issues related to this experimental feature.\n",
      "  ckpt = torch.load(\"/home/fywang/Documents/SPANTHER/src/results/BRCA_SAE/BRCA_SAE::SAE_default/BRCA_SAE/k=0/BRCA::SAE_default::h5_files/BRCA::SAE_default::h5_files::25-03-05-13-28-26/s_checkpoint.pth\")\n"
     ]
    },
    {
     "data": {
      "text/plain": [
       "<All keys matched successfully>"
      ]
     },
     "execution_count": 6,
     "metadata": {},
     "output_type": "execute_result"
    }
   ],
   "source": [
    "# check test set\n",
    "sae_config = SAEConfig()\n",
    "sae_config.in_dim = 512\n",
    "sae = SAE(sae_config)\n",
    "sae.eval()\n",
    "\n",
    "ckpt = torch.load(\"/home/fywang/Documents/SPANTHER/src/results/BRCA_SAE/BRCA_SAE::SAE_default/BRCA_SAE/k=0/BRCA::SAE_default::h5_files/BRCA::SAE_default::h5_files::25-03-05-13-28-26/s_checkpoint.pth\")\n",
    "sae.load_state_dict(ckpt['model'])"
   ]
  },
  {
   "cell_type": "code",
   "execution_count": 7,
   "metadata": {},
   "outputs": [],
   "source": [
    "with torch.no_grad():\n",
    "    for idx, sample in enumerate(dataset_splits[\"test\"]):\n",
    "        results_dict, log_dict = sae(sample[\"img\"])\n",
    "        break"
   ]
  },
  {
   "cell_type": "code",
   "execution_count": 8,
   "metadata": {},
   "outputs": [
    {
     "data": {
      "text/plain": [
       "{'loss': 0.25441092252731323,\n",
       " 'rec_loss': 0.0005201761377975345,\n",
       " 'sparsity_loss': 0.2538907527923584}"
      ]
     },
     "execution_count": 8,
     "metadata": {},
     "output_type": "execute_result"
    }
   ],
   "source": [
    "log_dict"
   ]
  },
  {
   "cell_type": "code",
   "execution_count": 9,
   "metadata": {},
   "outputs": [
    {
     "data": {
      "text/plain": [
       "tensor([[ 0.0141,  0.0518,  0.0330,  ...,  0.0348, -0.0371,  0.0080],\n",
       "        [-0.0023,  0.0433,  0.0170,  ...,  0.0397, -0.0467, -0.0100],\n",
       "        [ 0.0157,  0.0384,  0.0374,  ...,  0.0388, -0.0512, -0.0215],\n",
       "        ...,\n",
       "        [ 0.0064,  0.0477,  0.0150,  ...,  0.0388, -0.0427, -0.0161],\n",
       "        [ 0.0143,  0.0540,  0.0291,  ...,  0.0350, -0.0385,  0.0085],\n",
       "        [ 0.0148,  0.0338,  0.0303,  ...,  0.0337, -0.0438, -0.0193]])"
      ]
     },
     "execution_count": 9,
     "metadata": {},
     "output_type": "execute_result"
    }
   ],
   "source": [
    "results_dict[\"decoded\"]"
   ]
  },
  {
   "cell_type": "code",
   "execution_count": 10,
   "metadata": {},
   "outputs": [
    {
     "data": {
      "text/plain": [
       "tensor([[[-0.0074,  0.0306,  0.0234,  ...,  0.0256, -0.0307, -0.0337],\n",
       "         [-0.0655,  0.0357,  0.0196,  ...,  0.0449, -0.0861, -0.0485],\n",
       "         [-0.0090,  0.0872, -0.0006,  ...,  0.0605, -0.0349, -0.0268],\n",
       "         ...,\n",
       "         [ 0.0373,  0.0190,  0.0377,  ...,  0.0520, -0.0553, -0.0330],\n",
       "         [ 0.0297,  0.0309,  0.0120,  ...,  0.0727, -0.0343, -0.0226],\n",
       "         [ 0.0167,  0.0209,  0.0122,  ...,  0.0390, -0.0151, -0.0208]]])"
      ]
     },
     "execution_count": 10,
     "metadata": {},
     "output_type": "execute_result"
    }
   ],
   "source": [
    "sample[\"img\"]"
   ]
  },
  {
   "cell_type": "code",
   "execution_count": 11,
   "metadata": {},
   "outputs": [],
   "source": [
    "concept_decoded = sae.decoder(torch.eye(512*8))"
   ]
  },
  {
   "cell_type": "code",
   "execution_count": 12,
   "metadata": {},
   "outputs": [
    {
     "data": {
      "text/plain": [
       "torch.Size([4096, 512])"
      ]
     },
     "execution_count": 12,
     "metadata": {},
     "output_type": "execute_result"
    }
   ],
   "source": [
    "concept_decoded.shape"
   ]
  },
  {
   "cell_type": "code",
   "execution_count": 13,
   "metadata": {},
   "outputs": [
    {
     "data": {
      "text/plain": [
       "<seaborn.axisgrid.FacetGrid at 0x7f259b3e0e50>"
      ]
     },
     "execution_count": 13,
     "metadata": {},
     "output_type": "execute_result"
    },
    {
     "data": {
      "image/png": "[encoded data removed]",
      "text/plain": [
       "<Figure size 500x500 with 1 Axes>"
      ]
     },
     "metadata": {},
     "output_type": "display_data"
    }
   ],
   "source": [
    "# results_dict[\"encoded\"].mean(dim=0).mean()\n",
    "import seaborn as sns\n",
    "sns.displot(results_dict[\"encoded\"].mean(dim=0).numpy())"
   ]
  },
  {
   "cell_type": "code",
   "execution_count": 14,
   "metadata": {},
   "outputs": [
    {
     "data": {
      "text/plain": [
       "tensor([[0.1567, 0.1752, 0.1537,  ..., 0.1658, 0.1567, 0.1620],\n",
       "        [0.1374, 0.1577, 0.1376,  ..., 0.1429, 0.1411, 0.1439],\n",
       "        [0.1885, 0.2030, 0.1731,  ..., 0.1770, 0.1787, 0.1897],\n",
       "        ...,\n",
       "        [0.1337, 0.1516, 0.1283,  ..., 0.1344, 0.1339, 0.1370],\n",
       "        [0.1535, 0.1750, 0.1517,  ..., 0.1636, 0.1556, 0.1578],\n",
       "        [0.1602, 0.1756, 0.1474,  ..., 0.1518, 0.1513, 0.1613]])"
      ]
     },
     "execution_count": 14,
     "metadata": {},
     "output_type": "execute_result"
    }
   ],
   "source": [
    "results_dict[\"encoded\"]"
   ]
  },
  {
   "cell_type": "code",
   "execution_count": 15,
   "metadata": {},
   "outputs": [],
   "source": [
    "# import matplotlib.pyplot as plt\n",
    "# import seaborn as sns\n",
    "# sns.heatmap(results_dict[\"encoded\"].cpu().numpy())"
   ]
  },
  {
   "cell_type": "code",
   "execution_count": 16,
   "metadata": {},
   "outputs": [],
   "source": [
    "# using conch to name each concept ...."
   ]
  },
  {
   "cell_type": "code",
   "execution_count": null,
   "metadata": {},
   "outputs": [],
   "source": []
  }
 ],
 "metadata": {
  "kernelspec": {
   "display_name": "spanther",
   "language": "python",
   "name": "python3"
  },
  "language_info": {
   "codemirror_mode": {
    "name": "ipython",
    "version": 3
   },
   "file_extension": ".py",
   "mimetype": "text/x-python",
   "name": "python",
   "nbconvert_exporter": "python",
   "pygments_lexer": "ipython3",
   "version": "3.10.15"
  }
 },
 "nbformat": 4,
 "nbformat_minor": 2
}
