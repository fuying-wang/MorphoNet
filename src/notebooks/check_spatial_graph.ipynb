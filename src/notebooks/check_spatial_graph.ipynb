{
 "cells": [
  {
   "cell_type": "code",
   "execution_count": 4,
   "metadata": {},
   "outputs": [],
   "source": [
    "import numpy as np\n",
    "import h5py\n",
    "import pandas as pd\n",
    "import squidpy as sq\n",
    "import scanpy as sc"
   ]
  },
  {
   "cell_type": "code",
   "execution_count": 5,
   "metadata": {},
   "outputs": [],
   "source": [
    "superpatch_dir = \"/data1/r20user2/wsi_data/TCGA_NSCLC/extracted_mag20x_patch256/uni_pt_patch_features/superpatch\"\n",
    "csv_path = \"/home/fywang/Documents/SPANTHER/src/dataset_csv/NSCLC/classification.csv\"\n",
    "df = pd.read_csv(csv_path)"
   ]
  },
  {
   "cell_type": "code",
   "execution_count": 9,
   "metadata": {},
   "outputs": [],
   "source": [
    "for row in df.itertuples():\n",
    "    slide_id = row.slide_id\n",
    "    superpatch_path = f\"{superpatch_dir}/{slide_id}.h5\"\n",
    "    break"
   ]
  },
  {
   "cell_type": "code",
   "execution_count": 12,
   "metadata": {},
   "outputs": [],
   "source": [
    "with h5py.File(superpatch_path, \"r\") as f:\n",
    "    coords = f[\"coords\"][:]\n",
    "    features = f[\"features\"][:]"
   ]
  },
  {
   "cell_type": "code",
   "execution_count": 34,
   "metadata": {},
   "outputs": [
    {
     "data": {
      "text/plain": [
       "<matplotlib.collections.PathCollection at 0x7f8546d24340>"
      ]
     },
     "execution_count": 34,
     "metadata": {},
     "output_type": "execute_result"
    },
    {
     "data": {
      "image/png": "[encoded data removed]",
      "text/plain": [
       "<Figure size 640x480 with 1 Axes>"
      ]
     },
     "metadata": {},
     "output_type": "display_data"
    }
   ],
   "source": [
    "import matplotlib.pyplot as plt\n",
    "plt.scatter(coords[:, 0], coords[:, 1], s=20)"
   ]
  },
  {
   "cell_type": "code",
   "execution_count": 26,
   "metadata": {},
   "outputs": [
    {
     "data": {
      "text/plain": [
       "AnnData object with n_obs × n_vars = 17 × 1024\n",
       "    uns: 'spatial'\n",
       "    obsm: 'spatial'"
      ]
     },
     "execution_count": 26,
     "metadata": {},
     "output_type": "execute_result"
    }
   ],
   "source": [
    "adata = sc.AnnData(features)\n",
    "adata.uns[\"spatial\"] = coords\n",
    "adata.obsm[\"spatial\"] = coords\n",
    "adata"
   ]
  },
  {
   "cell_type": "code",
   "execution_count": 27,
   "metadata": {},
   "outputs": [],
   "source": [
    "sq.gr.spatial_neighbors(adata, n_rings=2, coord_type=\"grid\", n_neighs=6)"
   ]
  },
  {
   "cell_type": "code",
   "execution_count": 28,
   "metadata": {},
   "outputs": [
    {
     "data": {
      "text/plain": [
       "AnnData object with n_obs × n_vars = 17 × 1024\n",
       "    uns: 'spatial', 'spatial_neighbors'\n",
       "    obsm: 'spatial'\n",
       "    obsp: 'spatial_connectivities', 'spatial_distances'"
      ]
     },
     "execution_count": 28,
     "metadata": {},
     "output_type": "execute_result"
    }
   ],
   "source": [
    "adata"
   ]
  },
  {
   "cell_type": "code",
   "execution_count": 31,
   "metadata": {},
   "outputs": [
    {
     "data": {
      "text/plain": [
       "<Compressed Sparse Row sparse matrix of dtype 'float64'\n",
       "\twith 127 stored elements and shape (17, 17)>"
      ]
     },
     "execution_count": 31,
     "metadata": {},
     "output_type": "execute_result"
    }
   ],
   "source": [
    "adata.obsp[\"spatial_distances\"]"
   ]
  },
  {
   "cell_type": "code",
   "execution_count": 29,
   "metadata": {},
   "outputs": [
    {
     "data": {
      "text/plain": [
       "<Compressed Sparse Row sparse matrix of dtype 'float64'\n",
       "\twith 127 stored elements and shape (17, 17)>"
      ]
     },
     "execution_count": 29,
     "metadata": {},
     "output_type": "execute_result"
    }
   ],
   "source": [
    "adata.obsp[\"spatial_connectivities\"]"
   ]
  },
  {
   "cell_type": "code",
   "execution_count": 30,
   "metadata": {},
   "outputs": [
    {
     "ename": "ValueError",
     "evalue": "Found `library_id: `[array([133.02892,  66.58345], dtype=float32), array([161.65234 ,  50.911694], dtype=float32), array([213.98846 ,  60.427345], dtype=float32), array([167.62462,  69.79957], dtype=float32), array([156.79437,  88.00685], dtype=float32), array([238.01718,  44.07983], dtype=float32), array([150.85834, 114.73471], dtype=float32), array([175.94215, 135.04242], dtype=float32), array([115.45465,  56.29736], dtype=float32), array([148.51581, 143.28503], dtype=float32), array([129.16722 ,  59.325844], dtype=float32), array([157.5805 , 163.22449], dtype=float32), array([155.86964, 121.08581], dtype=float32), array([111.61883 ,  31.216217], dtype=float32), array([162.2069  ,   8.150862], dtype=float32), array([257.72806 ,  28.707018], dtype=float32), array([133.17241 ,  80.965515], dtype=float32)] but no `library_key` was specified. Please specify `library_key`.",
     "output_type": "error",
     "traceback": [
      "\u001b[0;31m---------------------------------------------------------------------------\u001b[0m",
      "\u001b[0;31mValueError\u001b[0m                                Traceback (most recent call last)",
      "\u001b[1;32m/home/fywang/Documents/SPANTHER/notebooks/check_spatial_graph.ipynb Cell 9\u001b[0m line \u001b[0;36m2\n\u001b[1;32m      <a href='vscode-notebook-cell://ssh-remote%2Bresearch20.saas.hku.hk/home/fywang/Documents/SPANTHER/notebooks/check_spatial_graph.ipynb#X13sdnNjb2RlLXJlbW90ZQ%3D%3D?line=0'>1</a>\u001b[0m _, idx \u001b[39m=\u001b[39m adata\u001b[39m.\u001b[39mobsp[\u001b[39m\"\u001b[39m\u001b[39mspatial_connectivities\u001b[39m\u001b[39m\"\u001b[39m]\u001b[39m.\u001b[39mnonzero()\n\u001b[0;32m----> <a href='vscode-notebook-cell://ssh-remote%2Bresearch20.saas.hku.hk/home/fywang/Documents/SPANTHER/notebooks/check_spatial_graph.ipynb#X13sdnNjb2RlLXJlbW90ZQ%3D%3D?line=1'>2</a>\u001b[0m sq\u001b[39m.\u001b[39;49mpl\u001b[39m.\u001b[39;49mspatial_scatter(\n\u001b[1;32m      <a href='vscode-notebook-cell://ssh-remote%2Bresearch20.saas.hku.hk/home/fywang/Documents/SPANTHER/notebooks/check_spatial_graph.ipynb#X13sdnNjb2RlLXJlbW90ZQ%3D%3D?line=2'>3</a>\u001b[0m     adata,\n\u001b[1;32m      <a href='vscode-notebook-cell://ssh-remote%2Bresearch20.saas.hku.hk/home/fywang/Documents/SPANTHER/notebooks/check_spatial_graph.ipynb#X13sdnNjb2RlLXJlbW90ZQ%3D%3D?line=3'>4</a>\u001b[0m     connectivity_key\u001b[39m=\u001b[39;49m\u001b[39m\"\u001b[39;49m\u001b[39mspatial_connectivities\u001b[39;49m\u001b[39m\"\u001b[39;49m,\n\u001b[1;32m      <a href='vscode-notebook-cell://ssh-remote%2Bresearch20.saas.hku.hk/home/fywang/Documents/SPANTHER/notebooks/check_spatial_graph.ipynb#X13sdnNjb2RlLXJlbW90ZQ%3D%3D?line=4'>5</a>\u001b[0m     img\u001b[39m=\u001b[39;49m\u001b[39mFalse\u001b[39;49;00m,\n\u001b[1;32m      <a href='vscode-notebook-cell://ssh-remote%2Bresearch20.saas.hku.hk/home/fywang/Documents/SPANTHER/notebooks/check_spatial_graph.ipynb#X13sdnNjb2RlLXJlbW90ZQ%3D%3D?line=5'>6</a>\u001b[0m     na_color\u001b[39m=\u001b[39;49m\u001b[39m\"\u001b[39;49m\u001b[39mlightgrey\u001b[39;49m\u001b[39m\"\u001b[39;49m,\n\u001b[1;32m      <a href='vscode-notebook-cell://ssh-remote%2Bresearch20.saas.hku.hk/home/fywang/Documents/SPANTHER/notebooks/check_spatial_graph.ipynb#X13sdnNjb2RlLXJlbW90ZQ%3D%3D?line=6'>7</a>\u001b[0m )\n",
      "File \u001b[0;32m~/miniconda3/envs/spanther/lib/python3.10/site-packages/squidpy/pl/_spatial.py:420\u001b[0m, in \u001b[0;36mspatial_scatter\u001b[0;34m(adata, shape, **kwargs)\u001b[0m\n\u001b[1;32m    379\u001b[0m \u001b[39m@d\u001b[39m\u001b[39m.\u001b[39mdedent\n\u001b[1;32m    380\u001b[0m \u001b[39m@_wrap_signature\u001b[39m\n\u001b[1;32m    381\u001b[0m \u001b[39mdef\u001b[39;00m \u001b[39mspatial_scatter\u001b[39m(\n\u001b[0;32m   (...)\u001b[0m\n\u001b[1;32m    384\u001b[0m     \u001b[39m*\u001b[39m\u001b[39m*\u001b[39mkwargs: Any,\n\u001b[1;32m    385\u001b[0m ) \u001b[39m-\u001b[39m\u001b[39m>\u001b[39m Axes \u001b[39m|\u001b[39m Sequence[Axes] \u001b[39m|\u001b[39m \u001b[39mNone\u001b[39;00m:\n\u001b[1;32m    386\u001b[0m \u001b[39m    \u001b[39m\u001b[39m\"\"\"\u001b[39;00m\n\u001b[1;32m    387\u001b[0m \u001b[39m    Plot spatial omics data with data overlayed on top.\u001b[39;00m\n\u001b[1;32m    388\u001b[0m \n\u001b[0;32m   (...)\u001b[0m\n\u001b[1;32m    418\u001b[0m \u001b[39m    %(spatial_plot.returns)s\u001b[39;00m\n\u001b[1;32m    419\u001b[0m \u001b[39m    \"\"\"\u001b[39;00m\n\u001b[0;32m--> 420\u001b[0m     \u001b[39mreturn\u001b[39;00m _spatial_plot(adata, shape\u001b[39m=\u001b[39;49mshape, seg\u001b[39m=\u001b[39;49m\u001b[39mNone\u001b[39;49;00m, seg_key\u001b[39m=\u001b[39;49m\u001b[39mNone\u001b[39;49;00m, \u001b[39m*\u001b[39;49m\u001b[39m*\u001b[39;49mkwargs)\n",
      "File \u001b[0;32m~/miniconda3/envs/spanther/lib/python3.10/site-packages/squidpy/pl/_spatial.py:182\u001b[0m, in \u001b[0;36m_spatial_plot\u001b[0;34m(adata, shape, color, groups, library_id, library_key, spatial_key, img, img_res_key, img_alpha, img_cmap, img_channel, seg, seg_key, seg_cell_id, seg_contourpx, seg_outline, use_raw, layer, alt_var, size, size_key, scale_factor, crop_coord, cmap, palette, alpha, norm, na_color, connectivity_key, edges_width, edges_color, library_first, frameon, wspace, hspace, ncols, outline, outline_color, outline_width, legend_loc, legend_fontsize, legend_fontweight, legend_fontoutline, legend_na, colorbar, scalebar_dx, scalebar_units, title, axis_label, fig, ax, return_ax, figsize, dpi, save, scalebar_kwargs, edges_kwargs, **kwargs)\u001b[0m\n\u001b[1;32m    168\u001b[0m edges_kwargs \u001b[39m=\u001b[39m \u001b[39mdict\u001b[39m(edges_kwargs)\n\u001b[1;32m    170\u001b[0m color_params \u001b[39m=\u001b[39m _prepare_args_plot(\n\u001b[1;32m    171\u001b[0m     adata\u001b[39m=\u001b[39madata,\n\u001b[1;32m    172\u001b[0m     shape\u001b[39m=\u001b[39mshape,\n\u001b[0;32m   (...)\u001b[0m\n\u001b[1;32m    179\u001b[0m     palette\u001b[39m=\u001b[39mpalette,\n\u001b[1;32m    180\u001b[0m )\n\u001b[0;32m--> 182\u001b[0m spatial_params \u001b[39m=\u001b[39m _image_spatial_attrs(\n\u001b[1;32m    183\u001b[0m     adata\u001b[39m=\u001b[39;49madata,\n\u001b[1;32m    184\u001b[0m     shape\u001b[39m=\u001b[39;49mshape,\n\u001b[1;32m    185\u001b[0m     spatial_key\u001b[39m=\u001b[39;49mspatial_key,\n\u001b[1;32m    186\u001b[0m     library_id\u001b[39m=\u001b[39;49mlibrary_id,\n\u001b[1;32m    187\u001b[0m     library_key\u001b[39m=\u001b[39;49mlibrary_key,\n\u001b[1;32m    188\u001b[0m     img\u001b[39m=\u001b[39;49mimg,\n\u001b[1;32m    189\u001b[0m     img_res_key\u001b[39m=\u001b[39;49mimg_res_key,\n\u001b[1;32m    190\u001b[0m     img_channel\u001b[39m=\u001b[39;49mimg_channel,\n\u001b[1;32m    191\u001b[0m     seg\u001b[39m=\u001b[39;49mseg,\n\u001b[1;32m    192\u001b[0m     seg_key\u001b[39m=\u001b[39;49mseg_key,\n\u001b[1;32m    193\u001b[0m     cell_id_key\u001b[39m=\u001b[39;49mseg_cell_id,\n\u001b[1;32m    194\u001b[0m     scale_factor\u001b[39m=\u001b[39;49mscale_factor,\n\u001b[1;32m    195\u001b[0m     size\u001b[39m=\u001b[39;49msize,\n\u001b[1;32m    196\u001b[0m     size_key\u001b[39m=\u001b[39;49msize_key,\n\u001b[1;32m    197\u001b[0m     img_cmap\u001b[39m=\u001b[39;49mimg_cmap,\n\u001b[1;32m    198\u001b[0m )\n\u001b[1;32m    200\u001b[0m coords, crops \u001b[39m=\u001b[39m _set_coords_crops(\n\u001b[1;32m    201\u001b[0m     adata\u001b[39m=\u001b[39madata,\n\u001b[1;32m    202\u001b[0m     spatial_params\u001b[39m=\u001b[39mspatial_params,\n\u001b[1;32m    203\u001b[0m     spatial_key\u001b[39m=\u001b[39mspatial_key,\n\u001b[1;32m    204\u001b[0m     crop_coord\u001b[39m=\u001b[39mcrop_coord,\n\u001b[1;32m    205\u001b[0m )\n\u001b[1;32m    207\u001b[0m fig_params, cmap_params, scalebar_params, kwargs \u001b[39m=\u001b[39m _prepare_params_plot(\n\u001b[1;32m    208\u001b[0m     color_params\u001b[39m=\u001b[39mcolor_params,\n\u001b[1;32m    209\u001b[0m     spatial_params\u001b[39m=\u001b[39mspatial_params,\n\u001b[0;32m   (...)\u001b[0m\n\u001b[1;32m    228\u001b[0m     \u001b[39m*\u001b[39m\u001b[39m*\u001b[39mkwargs,\n\u001b[1;32m    229\u001b[0m )\n",
      "File \u001b[0;32m~/miniconda3/envs/spanther/lib/python3.10/site-packages/squidpy/pl/_spatial_utils.py:297\u001b[0m, in \u001b[0;36m_image_spatial_attrs\u001b[0;34m(adata, shape, spatial_key, library_id, library_key, img, img_res_key, img_channel, seg, seg_key, cell_id_key, scale_factor, size, size_key, img_cmap)\u001b[0m\n\u001b[1;32m    289\u001b[0m library_id \u001b[39m=\u001b[39m _get_library_id(\n\u001b[1;32m    290\u001b[0m     adata\u001b[39m=\u001b[39madata,\n\u001b[1;32m    291\u001b[0m     shape\u001b[39m=\u001b[39mshape,\n\u001b[0;32m   (...)\u001b[0m\n\u001b[1;32m    294\u001b[0m     library_key\u001b[39m=\u001b[39mlibrary_key,\n\u001b[1;32m    295\u001b[0m )\n\u001b[1;32m    296\u001b[0m \u001b[39mif\u001b[39;00m \u001b[39mlen\u001b[39m(library_id) \u001b[39m>\u001b[39m \u001b[39m1\u001b[39m \u001b[39mand\u001b[39;00m library_key \u001b[39mis\u001b[39;00m \u001b[39mNone\u001b[39;00m:\n\u001b[0;32m--> 297\u001b[0m     \u001b[39mraise\u001b[39;00m \u001b[39mValueError\u001b[39;00m(\n\u001b[1;32m    298\u001b[0m         \u001b[39mf\u001b[39m\u001b[39m\"\u001b[39m\u001b[39mFound `library_id: `\u001b[39m\u001b[39m{\u001b[39;00mlibrary_id\u001b[39m}\u001b[39;00m\u001b[39m but no `library_key` was specified. Please specify `library_key`.\u001b[39m\u001b[39m\"\u001b[39m\n\u001b[1;32m    299\u001b[0m     )\n\u001b[1;32m    301\u001b[0m scale_factor, size \u001b[39m=\u001b[39m _get_scalefactor_size(\n\u001b[1;32m    302\u001b[0m     adata\u001b[39m=\u001b[39madata,\n\u001b[1;32m    303\u001b[0m     spatial_key\u001b[39m=\u001b[39mspatial_key,\n\u001b[0;32m   (...)\u001b[0m\n\u001b[1;32m    308\u001b[0m     size_key\u001b[39m=\u001b[39msize_key,\n\u001b[1;32m    309\u001b[0m )\n\u001b[1;32m    311\u001b[0m \u001b[39mif\u001b[39;00m (truthy(img) \u001b[39mand\u001b[39;00m truthy(seg)) \u001b[39mor\u001b[39;00m (truthy(img) \u001b[39mand\u001b[39;00m shape \u001b[39mis\u001b[39;00m \u001b[39mnot\u001b[39;00m \u001b[39mNone\u001b[39;00m):\n",
      "\u001b[0;31mValueError\u001b[0m: Found `library_id: `[array([133.02892,  66.58345], dtype=float32), array([161.65234 ,  50.911694], dtype=float32), array([213.98846 ,  60.427345], dtype=float32), array([167.62462,  69.79957], dtype=float32), array([156.79437,  88.00685], dtype=float32), array([238.01718,  44.07983], dtype=float32), array([150.85834, 114.73471], dtype=float32), array([175.94215, 135.04242], dtype=float32), array([115.45465,  56.29736], dtype=float32), array([148.51581, 143.28503], dtype=float32), array([129.16722 ,  59.325844], dtype=float32), array([157.5805 , 163.22449], dtype=float32), array([155.86964, 121.08581], dtype=float32), array([111.61883 ,  31.216217], dtype=float32), array([162.2069  ,   8.150862], dtype=float32), array([257.72806 ,  28.707018], dtype=float32), array([133.17241 ,  80.965515], dtype=float32)] but no `library_key` was specified. Please specify `library_key`."
     ]
    }
   ],
   "source": [
    "_, idx = adata.obsp[\"spatial_connectivities\"].nonzero()\n",
    "sq.pl.spatial_scatter(\n",
    "    adata,\n",
    "    connectivity_key=\"spatial_connectivities\",\n",
    "    img=False,\n",
    "    na_color=\"lightgrey\",\n",
    ")"
   ]
  },
  {
   "cell_type": "code",
   "execution_count": null,
   "metadata": {},
   "outputs": [],
   "source": []
  }
 ],
 "metadata": {
  "kernelspec": {
   "display_name": "spanther",
   "language": "python",
   "name": "python3"
  },
  "language_info": {
   "codemirror_mode": {
    "name": "ipython",
    "version": 3
   },
   "file_extension": ".py",
   "mimetype": "text/x-python",
   "name": "python",
   "nbconvert_exporter": "python",
   "pygments_lexer": "ipython3",
   "version": "3.10.15"
  }
 },
 "nbformat": 4,
 "nbformat_minor": 2
}
