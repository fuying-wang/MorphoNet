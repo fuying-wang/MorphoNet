{
 "cells": [
  {
   "cell_type": "code",
   "execution_count": 1,
   "metadata": {},
   "outputs": [],
   "source": [
    "import os\n",
    "import pandas as pd\n",
    "import numpy as np\n",
    "from sklearn.model_selection import train_test_split"
   ]
  },
  {
   "cell_type": "code",
   "execution_count": 2,
   "metadata": {},
   "outputs": [
    {
     "name": "stdout",
     "output_type": "stream",
     "text": [
      "(905, 10)\n"
     ]
    }
   ],
   "source": [
    "# create splits from HIPT\n",
    "kidney_df = pd.read_csv(\"/home/fywang/Documents/HIPT/2-Weakly-Supervised-Subtyping/dataset_csv/tcga_kidney_subset.csv.zip\")\n",
    "print(kidney_df.shape)"
   ]
  },
  {
   "cell_type": "code",
   "execution_count": 3,
   "metadata": {},
   "outputs": [],
   "source": [
    "kidney_df[\"slide_id\"] = kidney_df[\"slide_id\"].apply(lambda x: x.replace(\".svs\", \"\"))"
   ]
  },
  {
   "cell_type": "code",
   "execution_count": 4,
   "metadata": {},
   "outputs": [
    {
     "data": {
      "text/plain": [
       "'TCGA-4A-A93X-01Z-00-DX2.45011BF1-FED8-4D22-B5E1-C63DC384FD2A'"
      ]
     },
     "execution_count": 4,
     "metadata": {},
     "output_type": "execute_result"
    }
   ],
   "source": [
    "kidney_df.loc[0, \"slide_id\"]"
   ]
  },
  {
   "cell_type": "code",
   "execution_count": 5,
   "metadata": {},
   "outputs": [],
   "source": [
    "kidney_df.drop(columns=[\"Unnamed: 0\"], inplace=True)"
   ]
  },
  {
   "cell_type": "code",
   "execution_count": 6,
   "metadata": {},
   "outputs": [],
   "source": [
    "# brca_df = brca_df[brca_df[\"oncotree_code\"].isin([\"IDC\", \"ILC\"])]"
   ]
  },
  {
   "cell_type": "code",
   "execution_count": 7,
   "metadata": {},
   "outputs": [],
   "source": [
    "unique_kidney_df = kidney_df.drop_duplicates(subset=['case_id'])"
   ]
  },
  {
   "cell_type": "code",
   "execution_count": 8,
   "metadata": {},
   "outputs": [
    {
     "data": {
      "text/plain": [
       "(866, 9)"
      ]
     },
     "execution_count": 8,
     "metadata": {},
     "output_type": "execute_result"
    }
   ],
   "source": [
    "unique_kidney_df.shape"
   ]
  },
  {
   "cell_type": "code",
   "execution_count": 9,
   "metadata": {},
   "outputs": [
    {
     "data": {
      "text/plain": [
       "oncotree_code\n",
       "CCRCC    492\n",
       "PRCC     267\n",
       "CHRCC    107\n",
       "Name: count, dtype: int64"
      ]
     },
     "execution_count": 9,
     "metadata": {},
     "output_type": "execute_result"
    }
   ],
   "source": [
    "unique_kidney_df[\"oncotree_code\"].value_counts()"
   ]
  },
  {
   "cell_type": "code",
   "execution_count": 10,
   "metadata": {},
   "outputs": [],
   "source": [
    "train_val_df, test_df = train_test_split(unique_kidney_df, test_size=0.1, random_state=42, \n",
    "                                         stratify=unique_kidney_df['oncotree_code'])"
   ]
  },
  {
   "cell_type": "code",
   "execution_count": 11,
   "metadata": {},
   "outputs": [
    {
     "data": {
      "text/plain": [
       "oncotree_code\n",
       "CCRCC    443\n",
       "PRCC     240\n",
       "CHRCC     96\n",
       "Name: count, dtype: int64"
      ]
     },
     "execution_count": 11,
     "metadata": {},
     "output_type": "execute_result"
    }
   ],
   "source": [
    "train_val_df[\"oncotree_code\"].value_counts()"
   ]
  },
  {
   "cell_type": "code",
   "execution_count": 12,
   "metadata": {},
   "outputs": [
    {
     "data": {
      "text/plain": [
       "oncotree_code\n",
       "CCRCC    49\n",
       "PRCC     27\n",
       "CHRCC    11\n",
       "Name: count, dtype: int64"
      ]
     },
     "execution_count": 12,
     "metadata": {},
     "output_type": "execute_result"
    }
   ],
   "source": [
    "test_df[\"oncotree_code\"].value_counts()"
   ]
  },
  {
   "cell_type": "code",
   "execution_count": 13,
   "metadata": {},
   "outputs": [],
   "source": [
    "train_df, val_df = train_test_split(train_val_df, test_size=0.1, random_state=42,\n",
    "                                    stratify=train_val_df['oncotree_code'])"
   ]
  },
  {
   "cell_type": "code",
   "execution_count": 14,
   "metadata": {},
   "outputs": [
    {
     "data": {
      "text/plain": [
       "oncotree_code\n",
       "CCRCC    399\n",
       "PRCC     216\n",
       "CHRCC     86\n",
       "Name: count, dtype: int64"
      ]
     },
     "execution_count": 14,
     "metadata": {},
     "output_type": "execute_result"
    }
   ],
   "source": [
    "train_df[\"oncotree_code\"].value_counts()"
   ]
  },
  {
   "cell_type": "code",
   "execution_count": 15,
   "metadata": {},
   "outputs": [
    {
     "data": {
      "text/plain": [
       "oncotree_code\n",
       "CCRCC    44\n",
       "PRCC     24\n",
       "CHRCC    10\n",
       "Name: count, dtype: int64"
      ]
     },
     "execution_count": 15,
     "metadata": {},
     "output_type": "execute_result"
    }
   ],
   "source": [
    "val_df[\"oncotree_code\"].value_counts()"
   ]
  },
  {
   "cell_type": "code",
   "execution_count": 16,
   "metadata": {},
   "outputs": [],
   "source": [
    "split_dir = \"/home/fywang/Documents/SPANTHER/src/splits/classification/RCC\"\n",
    "train_df.to_csv(os.path.join(split_dir, \"train.csv\"), index=False)\n",
    "val_df.to_csv(os.path.join(split_dir, \"val.csv\"), index=False)\n",
    "test_df.to_csv(os.path.join(split_dir, \"test.csv\"), index=False)"
   ]
  },
  {
   "cell_type": "code",
   "execution_count": 17,
   "metadata": {},
   "outputs": [
    {
     "name": "stdout",
     "output_type": "stream",
     "text": [
      "(937, 31)\n"
     ]
    }
   ],
   "source": [
    "brca_df = pd.read_csv(\"/home/fywang/Documents/HIPT/2-Weakly-Supervised-Subtyping/dataset_csv/tcga_brca_subset.csv.zip\")\n",
    "print(brca_df.shape)"
   ]
  },
  {
   "cell_type": "code",
   "execution_count": 18,
   "metadata": {},
   "outputs": [],
   "source": [
    "brca_df[\"slide_id\"] = brca_df[\"slide_id\"].apply(lambda x: x.replace(\".svs\", \"\"))"
   ]
  },
  {
   "cell_type": "code",
   "execution_count": 19,
   "metadata": {},
   "outputs": [
    {
     "data": {
      "text/plain": [
       "oncotree_code\n",
       "CCRCC    492\n",
       "PRCC     267\n",
       "CHRCC    107\n",
       "Name: count, dtype: int64"
      ]
     },
     "execution_count": 19,
     "metadata": {},
     "output_type": "execute_result"
    }
   ],
   "source": [
    "brca_df.drop(columns=[\"Unnamed: 0\"], inplace=True)\n",
    "brca_df = brca_df[brca_df[\"oncotree_code\"].isin([\"IDC\", \"ILC\"])]\n",
    "unique_brca_df = brca_df.drop_duplicates(subset=['case_id'])\n",
    "unique_kidney_df[\"oncotree_code\"].value_counts()"
   ]
  },
  {
   "cell_type": "code",
   "execution_count": 20,
   "metadata": {},
   "outputs": [],
   "source": [
    "train_val_df, test_df = train_test_split(unique_brca_df, test_size=0.1, random_state=42, \n",
    "                                         stratify=unique_brca_df['oncotree_code'])\n",
    "train_df, val_df = train_test_split(train_val_df, test_size=0.1, random_state=42,\n",
    "                                    stratify=train_val_df['oncotree_code'])\n",
    "split_dir = \"/home/fywang/Documents/SPANTHER/src/splits/classification/BRCA\"\n",
    "train_df.to_csv(os.path.join(split_dir, \"train.csv\"), index=False)\n",
    "val_df.to_csv(os.path.join(split_dir, \"val.csv\"), index=False)\n",
    "test_df.to_csv(os.path.join(split_dir, \"test.csv\"), index=False)"
   ]
  },
  {
   "cell_type": "code",
   "execution_count": 21,
   "metadata": {},
   "outputs": [
    {
     "data": {
      "text/plain": [
       "oncotree_code\n",
       "IDC    561\n",
       "ILC    116\n",
       "Name: count, dtype: int64"
      ]
     },
     "execution_count": 21,
     "metadata": {},
     "output_type": "execute_result"
    }
   ],
   "source": [
    "train_df[\"oncotree_code\"].value_counts()"
   ]
  },
  {
   "cell_type": "code",
   "execution_count": 22,
   "metadata": {},
   "outputs": [
    {
     "data": {
      "text/plain": [
       "oncotree_code\n",
       "IDC    63\n",
       "ILC    13\n",
       "Name: count, dtype: int64"
      ]
     },
     "execution_count": 22,
     "metadata": {},
     "output_type": "execute_result"
    }
   ],
   "source": [
    "val_df[\"oncotree_code\"].value_counts()"
   ]
  },
  {
   "cell_type": "code",
   "execution_count": 23,
   "metadata": {},
   "outputs": [
    {
     "data": {
      "text/plain": [
       "oncotree_code\n",
       "IDC    70\n",
       "ILC    14\n",
       "Name: count, dtype: int64"
      ]
     },
     "execution_count": 23,
     "metadata": {},
     "output_type": "execute_result"
    }
   ],
   "source": [
    "test_df[\"oncotree_code\"].value_counts()"
   ]
  },
  {
   "cell_type": "code",
   "execution_count": null,
   "metadata": {},
   "outputs": [],
   "source": []
  }
 ],
 "metadata": {
  "kernelspec": {
   "display_name": "spanther",
   "language": "python",
   "name": "python3"
  },
  "language_info": {
   "codemirror_mode": {
    "name": "ipython",
    "version": 3
   },
   "file_extension": ".py",
   "mimetype": "text/x-python",
   "name": "python",
   "nbconvert_exporter": "python",
   "pygments_lexer": "ipython3",
   "version": "3.10.15"
  }
 },
 "nbformat": 4,
 "nbformat_minor": 2
}
