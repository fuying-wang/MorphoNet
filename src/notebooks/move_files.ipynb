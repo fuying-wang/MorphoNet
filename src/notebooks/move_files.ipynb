{
 "cells": [
  {
   "cell_type": "code",
   "execution_count": 1,
   "metadata": {},
   "outputs": [],
   "source": [
    "import os\n",
    "import shutil\n",
    "from glob import glob\n",
    "from distutils.dir_util import copy_tree"
   ]
  },
  {
   "cell_type": "code",
   "execution_count": 4,
   "metadata": {},
   "outputs": [
    {
     "name": "stdout",
     "output_type": "stream",
     "text": [
      "/home/fywang/Documents/SPANTHER/src/splits/survival/TCGA_BLCA_overall_survival_k=0/superpatch_connected_panther_C64\n",
      "/home/fywang/Documents/SPANTHER/src/splits/survival/TCGA_BLCA_overall_survival_k=0/superpatch_connected_panther_C64_graph\n",
      "/home/fywang/Documents/SPANTHER/src/splits/survival/TCGA_BLCA_overall_survival_k=0/superpatch_connected_panther_graph\n",
      "/home/fywang/Documents/SPANTHER/src/splits/survival/TCGA_BLCA_overall_survival_k=1/superpatch_connected_panther\n",
      "/home/fywang/Documents/SPANTHER/src/splits/survival/TCGA_BLCA_overall_survival_k=1/superpatch_connected_panther_graph\n",
      "/home/fywang/Documents/SPANTHER/src/splits/survival/TCGA_BLCA_overall_survival_k=2/superpatch_connected_panther\n",
      "/home/fywang/Documents/SPANTHER/src/splits/survival/TCGA_BLCA_overall_survival_k=2/superpatch_connected_panther_graph\n",
      "/home/fywang/Documents/SPANTHER/src/splits/survival/TCGA_BLCA_overall_survival_k=3/superpatch_connected_panther\n",
      "/home/fywang/Documents/SPANTHER/src/splits/survival/TCGA_BLCA_overall_survival_k=3/superpatch_connected_panther_graph\n",
      "/home/fywang/Documents/SPANTHER/src/splits/survival/TCGA_BLCA_overall_survival_k=4/superpatch_connected_ot\n",
      "/home/fywang/Documents/SPANTHER/src/splits/survival/TCGA_BLCA_overall_survival_k=4/superpatch_connected_ot_graph\n",
      "/home/fywang/Documents/SPANTHER/src/splits/survival/TCGA_BLCA_overall_survival_k=4/superpatch_connected_panther\n",
      "/home/fywang/Documents/SPANTHER/src/splits/survival/TCGA_BLCA_overall_survival_k=4/superpatch_connected_panther_graph\n",
      "/home/fywang/Documents/SPANTHER/src/splits/survival/TCGA_BRCA_overall_survival_k=0/superpatch_connected_panther_C64\n",
      "/home/fywang/Documents/SPANTHER/src/splits/survival/TCGA_BRCA_overall_survival_k=0/superpatch_connected_panther_C64_graph\n",
      "/home/fywang/Documents/SPANTHER/src/splits/survival/TCGA_BRCA_overall_survival_k=1/superpatch_connected_panther\n",
      "/home/fywang/Documents/SPANTHER/src/splits/survival/TCGA_BRCA_overall_survival_k=1/superpatch_connected_panther_graph\n",
      "/home/fywang/Documents/SPANTHER/src/splits/survival/TCGA_BRCA_overall_survival_k=2/superpatch_connected_panther\n",
      "/home/fywang/Documents/SPANTHER/src/splits/survival/TCGA_BRCA_overall_survival_k=2/superpatch_connected_panther_graph\n",
      "/home/fywang/Documents/SPANTHER/src/splits/survival/TCGA_BRCA_overall_survival_k=3/superpatch_connected_panther\n",
      "/home/fywang/Documents/SPANTHER/src/splits/survival/TCGA_BRCA_overall_survival_k=3/superpatch_connected_panther_graph\n",
      "/home/fywang/Documents/SPANTHER/src/splits/survival/TCGA_BRCA_overall_survival_k=4/superpatch_connected_ot\n",
      "/home/fywang/Documents/SPANTHER/src/splits/survival/TCGA_BRCA_overall_survival_k=4/superpatch_connected_ot_graph\n",
      "/home/fywang/Documents/SPANTHER/src/splits/survival/TCGA_BRCA_overall_survival_k=4/superpatch_connected_panther\n",
      "/home/fywang/Documents/SPANTHER/src/splits/survival/TCGA_BRCA_overall_survival_k=4/superpatch_connected_panther_graph\n",
      "/home/fywang/Documents/SPANTHER/src/splits/survival/TCGA_COADREAD_overall_survival_k=0/superpatch_connected_panther\n",
      "/home/fywang/Documents/SPANTHER/src/splits/survival/TCGA_COADREAD_overall_survival_k=0/superpatch_connected_panther_C64\n",
      "/home/fywang/Documents/SPANTHER/src/splits/survival/TCGA_COADREAD_overall_survival_k=0/superpatch_connected_panther_C64_graph\n",
      "/home/fywang/Documents/SPANTHER/src/splits/survival/TCGA_COADREAD_overall_survival_k=0/superpatch_connected_panther_graph\n",
      "/home/fywang/Documents/SPANTHER/src/splits/survival/TCGA_COADREAD_overall_survival_k=1/superpatch_connected_panther\n",
      "/home/fywang/Documents/SPANTHER/src/splits/survival/TCGA_COADREAD_overall_survival_k=1/superpatch_connected_panther_C64\n",
      "/home/fywang/Documents/SPANTHER/src/splits/survival/TCGA_COADREAD_overall_survival_k=1/superpatch_connected_panther_C64_graph\n",
      "/home/fywang/Documents/SPANTHER/src/splits/survival/TCGA_COADREAD_overall_survival_k=1/superpatch_connected_panther_graph\n",
      "/home/fywang/Documents/SPANTHER/src/splits/survival/TCGA_COADREAD_overall_survival_k=2/superpatch_connected_panther\n",
      "/home/fywang/Documents/SPANTHER/src/splits/survival/TCGA_COADREAD_overall_survival_k=2/superpatch_connected_panther_graph\n",
      "/home/fywang/Documents/SPANTHER/src/splits/survival/TCGA_COADREAD_overall_survival_k=3/superpatch_connected_panther\n",
      "/home/fywang/Documents/SPANTHER/src/splits/survival/TCGA_COADREAD_overall_survival_k=3/superpatch_connected_panther_graph\n",
      "/home/fywang/Documents/SPANTHER/src/splits/survival/TCGA_COADREAD_overall_survival_k=4/superpatch_connected_ot\n",
      "/home/fywang/Documents/SPANTHER/src/splits/survival/TCGA_COADREAD_overall_survival_k=4/superpatch_connected_ot_graph\n",
      "/home/fywang/Documents/SPANTHER/src/splits/survival/TCGA_COADREAD_overall_survival_k=4/superpatch_connected_panther\n",
      "/home/fywang/Documents/SPANTHER/src/splits/survival/TCGA_COADREAD_overall_survival_k=4/superpatch_connected_panther_graph\n",
      "/home/fywang/Documents/SPANTHER/src/splits/survival/TCGA_KIRC_overall_survival_k=4/superpatch_connected_ot\n",
      "/home/fywang/Documents/SPANTHER/src/splits/survival/TCGA_KIRC_overall_survival_k=4/superpatch_connected_ot_graph\n",
      "/home/fywang/Documents/SPANTHER/src/splits/survival/TCGA_UCEC_overall_survival_k=0/superpatch_connected_panther\n",
      "/home/fywang/Documents/SPANTHER/src/splits/survival/TCGA_UCEC_overall_survival_k=0/superpatch_connected_panther_graph\n",
      "/home/fywang/Documents/SPANTHER/src/splits/survival/TCGA_UCEC_overall_survival_k=4/superpatch_connected_ot\n",
      "/home/fywang/Documents/SPANTHER/src/splits/survival/TCGA_UCEC_overall_survival_k=4/superpatch_connected_ot_graph\n"
     ]
    }
   ],
   "source": [
    "split_dir = \"/home/fywang/Documents/SPANTHER/src/splits/survival/\"\n",
    "folders = glob(os.path.join(split_dir, \"*/superpatch_*\"))\n",
    "target_dir = \"/data1/r20user2/SPANTHER\"\n",
    "folders = sorted(folders)\n",
    "for folder in folders[1:]:\n",
    "    sub_folder = folder.replace(split_dir, \"\")\n",
    "    # print(folder)\n",
    "    target_folder = os.path.join(target_dir, sub_folder)\n",
    "    # print(target_folder)\n",
    "    os.makedirs(target_folder, exist_ok=True)\n",
    "    # copy files\n",
    "    # if len(os.listdir(folder)) == 0:\n",
    "    #     print(\"Empty folder\")\n",
    "    #     continue\n",
    "    # print(os.path.join(folder, \"*\"))\n",
    "    print(folder)\n",
    "    shutil.rmtree(folder)\n",
    "    # print(target_folder)\n",
    "    # copy_tree(folder, target_folder)\n",
    "    # break"
   ]
  },
  {
   "cell_type": "code",
   "execution_count": null,
   "metadata": {},
   "outputs": [],
   "source": []
  }
 ],
 "metadata": {
  "kernelspec": {
   "display_name": "spanther",
   "language": "python",
   "name": "python3"
  },
  "language_info": {
   "codemirror_mode": {
    "name": "ipython",
    "version": 3
   },
   "file_extension": ".py",
   "mimetype": "text/x-python",
   "name": "python",
   "nbconvert_exporter": "python",
   "pygments_lexer": "ipython3",
   "version": "3.10.15"
  }
 },
 "nbformat": 4,
 "nbformat_minor": 2
}
